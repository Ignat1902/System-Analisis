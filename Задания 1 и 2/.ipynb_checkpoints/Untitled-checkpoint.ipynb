{
 "cells": [
  {
   "cell_type": "markdown",
   "id": "9a9b96a7-5bae-47c1-a919-13120f168af6",
   "metadata": {},
   "source": [
    "## Лабораторная работа №1\n",
    "Выполнил: Соцков И.Н"
   ]
  },
  {
   "cell_type": "code",
   "execution_count": 4,
   "id": "1db1e1ac-3cc4-499e-aeff-6602f51de41f",
   "metadata": {},
   "outputs": [
    {
     "name": "stdout",
     "output_type": "stream",
     "text": [
      "Результат:\n",
      "x1 = 120.0\n",
      "x2 = 80.0\n",
      "Прибыль:\n",
      "560.0\n"
     ]
    }
   ],
   "source": [
    "from pulp import *\n",
    "\n",
    "x1 = LpVariable(\"x1\", lowBound=0)\n",
    "x2 = LpVariable(\"x2\", lowBound=0)\n",
    "x3 = LpVariable(\"x3\", lowBound=0)\n",
    "problem = LpProblem('0',LpMaximize)\n",
    "\n",
    "problem += 4*x1 + x2, \"Функция цели\"\n",
    "problem += x1 + x2 <= 200, \"1\"\n",
    "problem += x1<= 120, \"2\"\n",
    "problem += x2 <= 200, \"3\"\n",
    "\n",
    "problem.solve()\n",
    "\n",
    "print (\"Результат:\")\n",
    "for variable in problem.variables():\n",
    "    print (variable.name, \"=\", variable.varValue)\n",
    "print (\"Прибыль:\")\n",
    "print (value(problem.objective))"
   ]
  },
  {
   "cell_type": "code",
   "execution_count": null,
   "id": "b1277e38-96c7-422a-b091-94c2a52c9937",
   "metadata": {},
   "outputs": [],
   "source": []
  }
 ],
 "metadata": {
  "kernelspec": {
   "display_name": "Python 3 (ipykernel)",
   "language": "python",
   "name": "python3"
  },
  "language_info": {
   "codemirror_mode": {
    "name": "ipython",
    "version": 3
   },
   "file_extension": ".py",
   "mimetype": "text/x-python",
   "name": "python",
   "nbconvert_exporter": "python",
   "pygments_lexer": "ipython3",
   "version": "3.10.0"
  }
 },
 "nbformat": 4,
 "nbformat_minor": 5
}
